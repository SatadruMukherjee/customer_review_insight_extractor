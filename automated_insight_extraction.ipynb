{
  "nbformat": 4,
  "nbformat_minor": 0,
  "metadata": {
    "colab": {
      "provenance": [],
      "authorship_tag": "ABX9TyOo+uGHJqf6ayyp/s55UO2l",
      "include_colab_link": true
    },
    "kernelspec": {
      "name": "python3",
      "display_name": "Python 3"
    },
    "language_info": {
      "name": "python"
    }
  },
  "cells": [
    {
      "cell_type": "markdown",
      "metadata": {
        "id": "view-in-github",
        "colab_type": "text"
      },
      "source": [
        "<a href=\"https://colab.research.google.com/github/SatadruMukherjee/customer_review_insight_extractor/blob/main/automated_insight_extraction.ipynb\" target=\"_parent\"><img src=\"https://colab.research.google.com/assets/colab-badge.svg\" alt=\"Open In Colab\"/></a>"
      ]
    },
    {
      "cell_type": "code",
      "source": [
        "!pip install anthropic boto3"
      ],
      "metadata": {
        "colab": {
          "base_uri": "https://localhost:8080/"
        },
        "id": "9eqquIKu0YKF",
        "outputId": "260811db-ab8c-4f6e-c885-b0737fcf8025"
      },
      "execution_count": 1,
      "outputs": [
        {
          "output_type": "stream",
          "name": "stdout",
          "text": [
            "Collecting anthropic\n",
            "  Downloading anthropic-0.34.1-py3-none-any.whl.metadata (18 kB)\n",
            "Collecting boto3\n",
            "  Downloading boto3-1.35.10-py3-none-any.whl.metadata (6.6 kB)\n",
            "Requirement already satisfied: anyio<5,>=3.5.0 in /usr/local/lib/python3.10/dist-packages (from anthropic) (3.7.1)\n",
            "Requirement already satisfied: distro<2,>=1.7.0 in /usr/lib/python3/dist-packages (from anthropic) (1.7.0)\n",
            "Collecting httpx<1,>=0.23.0 (from anthropic)\n",
            "  Downloading httpx-0.27.2-py3-none-any.whl.metadata (7.1 kB)\n",
            "Collecting jiter<1,>=0.4.0 (from anthropic)\n",
            "  Downloading jiter-0.5.0-cp310-cp310-manylinux_2_17_x86_64.manylinux2014_x86_64.whl.metadata (3.6 kB)\n",
            "Requirement already satisfied: pydantic<3,>=1.9.0 in /usr/local/lib/python3.10/dist-packages (from anthropic) (2.8.2)\n",
            "Requirement already satisfied: sniffio in /usr/local/lib/python3.10/dist-packages (from anthropic) (1.3.1)\n",
            "Requirement already satisfied: tokenizers>=0.13.0 in /usr/local/lib/python3.10/dist-packages (from anthropic) (0.19.1)\n",
            "Requirement already satisfied: typing-extensions<5,>=4.7 in /usr/local/lib/python3.10/dist-packages (from anthropic) (4.12.2)\n",
            "Collecting botocore<1.36.0,>=1.35.10 (from boto3)\n",
            "  Downloading botocore-1.35.10-py3-none-any.whl.metadata (5.7 kB)\n",
            "Collecting jmespath<2.0.0,>=0.7.1 (from boto3)\n",
            "  Downloading jmespath-1.0.1-py3-none-any.whl.metadata (7.6 kB)\n",
            "Collecting s3transfer<0.11.0,>=0.10.0 (from boto3)\n",
            "  Downloading s3transfer-0.10.2-py3-none-any.whl.metadata (1.7 kB)\n",
            "Requirement already satisfied: idna>=2.8 in /usr/local/lib/python3.10/dist-packages (from anyio<5,>=3.5.0->anthropic) (3.8)\n",
            "Requirement already satisfied: exceptiongroup in /usr/local/lib/python3.10/dist-packages (from anyio<5,>=3.5.0->anthropic) (1.2.2)\n",
            "Requirement already satisfied: python-dateutil<3.0.0,>=2.1 in /usr/local/lib/python3.10/dist-packages (from botocore<1.36.0,>=1.35.10->boto3) (2.8.2)\n",
            "Requirement already satisfied: urllib3!=2.2.0,<3,>=1.25.4 in /usr/local/lib/python3.10/dist-packages (from botocore<1.36.0,>=1.35.10->boto3) (2.0.7)\n",
            "Requirement already satisfied: certifi in /usr/local/lib/python3.10/dist-packages (from httpx<1,>=0.23.0->anthropic) (2024.7.4)\n",
            "Collecting httpcore==1.* (from httpx<1,>=0.23.0->anthropic)\n",
            "  Downloading httpcore-1.0.5-py3-none-any.whl.metadata (20 kB)\n",
            "Collecting h11<0.15,>=0.13 (from httpcore==1.*->httpx<1,>=0.23.0->anthropic)\n",
            "  Downloading h11-0.14.0-py3-none-any.whl.metadata (8.2 kB)\n",
            "Requirement already satisfied: annotated-types>=0.4.0 in /usr/local/lib/python3.10/dist-packages (from pydantic<3,>=1.9.0->anthropic) (0.7.0)\n",
            "Requirement already satisfied: pydantic-core==2.20.1 in /usr/local/lib/python3.10/dist-packages (from pydantic<3,>=1.9.0->anthropic) (2.20.1)\n",
            "Requirement already satisfied: huggingface-hub<1.0,>=0.16.4 in /usr/local/lib/python3.10/dist-packages (from tokenizers>=0.13.0->anthropic) (0.23.5)\n",
            "Requirement already satisfied: filelock in /usr/local/lib/python3.10/dist-packages (from huggingface-hub<1.0,>=0.16.4->tokenizers>=0.13.0->anthropic) (3.15.4)\n",
            "Requirement already satisfied: fsspec>=2023.5.0 in /usr/local/lib/python3.10/dist-packages (from huggingface-hub<1.0,>=0.16.4->tokenizers>=0.13.0->anthropic) (2024.6.1)\n",
            "Requirement already satisfied: packaging>=20.9 in /usr/local/lib/python3.10/dist-packages (from huggingface-hub<1.0,>=0.16.4->tokenizers>=0.13.0->anthropic) (24.1)\n",
            "Requirement already satisfied: pyyaml>=5.1 in /usr/local/lib/python3.10/dist-packages (from huggingface-hub<1.0,>=0.16.4->tokenizers>=0.13.0->anthropic) (6.0.2)\n",
            "Requirement already satisfied: requests in /usr/local/lib/python3.10/dist-packages (from huggingface-hub<1.0,>=0.16.4->tokenizers>=0.13.0->anthropic) (2.32.3)\n",
            "Requirement already satisfied: tqdm>=4.42.1 in /usr/local/lib/python3.10/dist-packages (from huggingface-hub<1.0,>=0.16.4->tokenizers>=0.13.0->anthropic) (4.66.5)\n",
            "Requirement already satisfied: six>=1.5 in /usr/local/lib/python3.10/dist-packages (from python-dateutil<3.0.0,>=2.1->botocore<1.36.0,>=1.35.10->boto3) (1.16.0)\n",
            "Requirement already satisfied: charset-normalizer<4,>=2 in /usr/local/lib/python3.10/dist-packages (from requests->huggingface-hub<1.0,>=0.16.4->tokenizers>=0.13.0->anthropic) (3.3.2)\n",
            "Downloading anthropic-0.34.1-py3-none-any.whl (891 kB)\n",
            "\u001b[2K   \u001b[90m━━━━━━━━━━━━━━━━━━━━━━━━━━━━━━━━━━━━━━━━\u001b[0m \u001b[32m891.5/891.5 kB\u001b[0m \u001b[31m17.3 MB/s\u001b[0m eta \u001b[36m0:00:00\u001b[0m\n",
            "\u001b[?25hDownloading boto3-1.35.10-py3-none-any.whl (139 kB)\n",
            "\u001b[2K   \u001b[90m━━━━━━━━━━━━━━━━━━━━━━━━━━━━━━━━━━━━━━━━\u001b[0m \u001b[32m139.2/139.2 kB\u001b[0m \u001b[31m8.7 MB/s\u001b[0m eta \u001b[36m0:00:00\u001b[0m\n",
            "\u001b[?25hDownloading botocore-1.35.10-py3-none-any.whl (12.5 MB)\n",
            "\u001b[2K   \u001b[90m━━━━━━━━━━━━━━━━━━━━━━━━━━━━━━━━━━━━━━━━\u001b[0m \u001b[32m12.5/12.5 MB\u001b[0m \u001b[31m63.5 MB/s\u001b[0m eta \u001b[36m0:00:00\u001b[0m\n",
            "\u001b[?25hDownloading httpx-0.27.2-py3-none-any.whl (76 kB)\n",
            "\u001b[2K   \u001b[90m━━━━━━━━━━━━━━━━━━━━━━━━━━━━━━━━━━━━━━━━\u001b[0m \u001b[32m76.4/76.4 kB\u001b[0m \u001b[31m2.0 MB/s\u001b[0m eta \u001b[36m0:00:00\u001b[0m\n",
            "\u001b[?25hDownloading httpcore-1.0.5-py3-none-any.whl (77 kB)\n",
            "\u001b[2K   \u001b[90m━━━━━━━━━━━━━━━━━━━━━━━━━━━━━━━━━━━━━━━━\u001b[0m \u001b[32m77.9/77.9 kB\u001b[0m \u001b[31m1.8 MB/s\u001b[0m eta \u001b[36m0:00:00\u001b[0m\n",
            "\u001b[?25hDownloading jiter-0.5.0-cp310-cp310-manylinux_2_17_x86_64.manylinux2014_x86_64.whl (318 kB)\n",
            "\u001b[2K   \u001b[90m━━━━━━━━━━━━━━━━━━━━━━━━━━━━━━━━━━━━━━━━\u001b[0m \u001b[32m318.9/318.9 kB\u001b[0m \u001b[31m18.5 MB/s\u001b[0m eta \u001b[36m0:00:00\u001b[0m\n",
            "\u001b[?25hDownloading jmespath-1.0.1-py3-none-any.whl (20 kB)\n",
            "Downloading s3transfer-0.10.2-py3-none-any.whl (82 kB)\n",
            "\u001b[2K   \u001b[90m━━━━━━━━━━━━━━━━━━━━━━━━━━━━━━━━━━━━━━━━\u001b[0m \u001b[32m82.7/82.7 kB\u001b[0m \u001b[31m5.0 MB/s\u001b[0m eta \u001b[36m0:00:00\u001b[0m\n",
            "\u001b[?25hDownloading h11-0.14.0-py3-none-any.whl (58 kB)\n",
            "\u001b[2K   \u001b[90m━━━━━━━━━━━━━━━━━━━━━━━━━━━━━━━━━━━━━━━━\u001b[0m \u001b[32m58.3/58.3 kB\u001b[0m \u001b[31m2.5 MB/s\u001b[0m eta \u001b[36m0:00:00\u001b[0m\n",
            "\u001b[?25hInstalling collected packages: jmespath, jiter, h11, httpcore, botocore, s3transfer, httpx, boto3, anthropic\n",
            "Successfully installed anthropic-0.34.1 boto3-1.35.10 botocore-1.35.10 h11-0.14.0 httpcore-1.0.5 httpx-0.27.2 jiter-0.5.0 jmespath-1.0.1 s3transfer-0.10.2\n"
          ]
        }
      ]
    },
    {
      "cell_type": "code",
      "source": [
        "customer_reviews=\"\"\"The food was outstanding! Each dish was a work of art both in taste and presentation.\n",
        "We celebrated our anniversary here and the staff went above and beyond to make it special.\n",
        "The menu offered a wide range of options and everything we tried was delicious.\n",
        "The steak was cooked to perfection and the wine selection was excellent.\n",
        "The view from the rooftop terrace is stunning and the food matches the scenery.\n",
        "The sushi rolls were fresh and flavorful and the presentation was beautiful.\n",
        "The best Italian food I've had in the city! The pasta was handmade and cooked perfectly.\n",
        "The restaurant has a lovely atmosphere and the staff was friendly and knowledgeable.\n",
        "The food was good but the noise level in the restaurant was a bit high making it hard to enjoy our meal.\n",
        "The dessert was delicious but I wish there were more variety on the menu.\"\"\""
      ],
      "metadata": {
        "id": "cMmo7z_7W-aO"
      },
      "execution_count": 2,
      "outputs": []
    },
    {
      "cell_type": "code",
      "source": [
        "prompt=f\"\"\"Human: You are a summarisation assistant. Your task is to summarise product reviews given to you as a list. Within this list, there are individual product reviews in an array.\n",
        "Create a JSON document with the following fields:\n",
        "summary - A summary of these reviews in less than 250 words\n",
        "overall_sentiment - The overall sentiment of the reviews\n",
        "sentiment_confidence - How confident you are about the sentiment of the reviews\n",
        "reviews_positive - The percent of positive reviews\n",
        "reviews_neutral - The percent of neutral reviews\n",
        "reviews_negative - The percent of negative reviews\n",
        "action_items - A list of action items to resolve the customer complaints (don't put soemthing which is already good and there is no customer complaints)\n",
        "Your output should be raw JSON - do not include any sentences or additional text outside of the JSON object.\n",
        "Here is the list of reviews that I want you to summarise:\n",
        "{customer_reviews}\n",
        "Assistant:\"\"\""
      ],
      "metadata": {
        "id": "CJ8WSzeM1bBc"
      },
      "execution_count": 3,
      "outputs": []
    },
    {
      "cell_type": "code",
      "source": [
        "import anthropic\n",
        "import boto3\n",
        "from datetime import datetime"
      ],
      "metadata": {
        "id": "kaHKnIcoHQIr"
      },
      "execution_count": 4,
      "outputs": []
    },
    {
      "cell_type": "code",
      "execution_count": 5,
      "metadata": {
        "id": "N3B5d9EevjIQ"
      },
      "outputs": [],
      "source": [
        "client = anthropic.Anthropic(\n",
        "    # defaults to os.environ.get(\"ANTHROPIC_API_KEY\")\n",
        "    api_key=\"{}\",\n",
        ")\n",
        "message = client.messages.create(\n",
        "    model=\"claude-3-5-sonnet-20240620\",\n",
        "    max_tokens=1024,\n",
        "    messages=[\n",
        "        {\"role\": \"user\", \"content\": prompt}\n",
        "    ]\n",
        ")\n"
      ]
    },
    {
      "cell_type": "code",
      "source": [
        "output = message.content"
      ],
      "metadata": {
        "id": "e2Y56l690bl1"
      },
      "execution_count": 6,
      "outputs": []
    },
    {
      "cell_type": "code",
      "source": [
        "import json"
      ],
      "metadata": {
        "id": "H_inmZYI3-wo"
      },
      "execution_count": 13,
      "outputs": []
    },
    {
      "cell_type": "code",
      "source": [
        "analysis=json.loads(output[0].text)"
      ],
      "metadata": {
        "id": "GEjlosOY1mpt"
      },
      "execution_count": 14,
      "outputs": []
    },
    {
      "cell_type": "code",
      "source": [
        "analysis"
      ],
      "metadata": {
        "colab": {
          "base_uri": "https://localhost:8080/"
        },
        "id": "CuLWBCgg3gyX",
        "outputId": "7bcab3b0-4eda-491b-c59f-85830187d384"
      },
      "execution_count": 15,
      "outputs": [
        {
          "output_type": "execute_result",
          "data": {
            "text/plain": [
              "{'summary': \"The reviews overwhelmingly praise the restaurant for its outstanding food quality, presentation, and taste. Customers particularly enjoyed the steak, sushi, pasta, and desserts. The restaurant's atmosphere, including a rooftop terrace with stunning views, was highly appreciated. Staff were commended for their friendliness, knowledge, and exceptional service, especially for special occasions. The wine selection and menu variety were also positively noted. However, a few minor concerns were raised, including high noise levels in the restaurant and a desire for more dessert options.\",\n",
              " 'overall_sentiment': 'Highly Positive',\n",
              " 'sentiment_confidence': 0.95,\n",
              " 'reviews_positive': 90,\n",
              " 'reviews_neutral': 10,\n",
              " 'reviews_negative': 0,\n",
              " 'action_items': ['Consider implementing noise reduction measures to improve dining experience',\n",
              "  'Expand the dessert menu to offer more variety']}"
            ]
          },
          "metadata": {},
          "execution_count": 15
        }
      ]
    },
    {
      "cell_type": "code",
      "source": [
        "dynamodb = boto3.resource('dynamodb',aws_access_key_id='{AWS_ACCESS_KEY_ID}',aws_secret_access_key='{AWS_SECRET_ACCESS_KEY}',region_name='us-east-1')\n",
        "table = dynamodb.Table('review_storer_yt')\n",
        "table.put_item(\n",
        "    Item={\n",
        "        'date': datetime.today().strftime('%Y-%m-%d'),\n",
        "        'create_time': datetime.today().strftime('%Y-%m-%dT%H:%M:%S'),\n",
        "        'reviews_summary': analysis[\"summary\"],\n",
        "        'overall_sentiment': analysis[\"overall_sentiment\"],\n",
        "        'sentiment_confidence': str(analysis[\"sentiment_confidence\"]),\n",
        "        'reviews_positive': str(analysis[\"reviews_positive\"]),\n",
        "        'reviews_negative': str(analysis[\"reviews_negative\"]),\n",
        "        'reviews_neutral': str(analysis[\"reviews_neutral\"]),\n",
        "        'action_items': ', '.join(analysis['action_items']),\n",
        "    }\n",
        ")"
      ],
      "metadata": {
        "colab": {
          "base_uri": "https://localhost:8080/"
        },
        "id": "hyRBDWFZ72pO",
        "outputId": "f1327737-76ed-477f-bf5a-9f2fe34d204f"
      },
      "execution_count": 16,
      "outputs": [
        {
          "output_type": "execute_result",
          "data": {
            "text/plain": [
              "{'ResponseMetadata': {'RequestId': '13NGEMCPTMR8LN4K1AIQNF1N13VV4KQNSO5AEMVJF66Q9ASUAAJG',\n",
              "  'HTTPStatusCode': 200,\n",
              "  'HTTPHeaders': {'server': 'Server',\n",
              "   'date': 'Sun, 01 Sep 2024 07:53:44 GMT',\n",
              "   'content-type': 'application/x-amz-json-1.0',\n",
              "   'content-length': '2',\n",
              "   'connection': 'keep-alive',\n",
              "   'x-amzn-requestid': '13NGEMCPTMR8LN4K1AIQNF1N13VV4KQNSO5AEMVJF66Q9ASUAAJG',\n",
              "   'x-amz-crc32': '2745614147'},\n",
              "  'RetryAttempts': 0}}"
            ]
          },
          "metadata": {},
          "execution_count": 16
        }
      ]
    }
  ]
}